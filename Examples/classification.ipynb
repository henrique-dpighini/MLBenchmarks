{
 "cells": [
  {
   "cell_type": "markdown",
   "metadata": {},
   "source": [
    "# Benchmarking regression models with MLBenchmarks"
   ]
  },
  {
   "cell_type": "markdown",
   "metadata": {},
   "source": [
    "## Installation"
   ]
  },
  {
   "cell_type": "code",
   "execution_count": 1,
   "metadata": {},
   "outputs": [
    {
     "name": "stderr",
     "output_type": "stream",
     "text": [
      "  Running command git clone --filter=blob:none --quiet https://github.com/rcpsilva/MLBenchmarks 'C:\\Users\\rcpsi\\AppData\\Local\\Temp\\pip-req-build-a3zv6crj'\n"
     ]
    },
    {
     "name": "stdout",
     "output_type": "stream",
     "text": [
      "Collecting git+https://github.com/rcpsilva/MLBenchmarks@main\n",
      "  Cloning https://github.com/rcpsilva/MLBenchmarks (to revision main) to c:\\users\\rcpsi\\appdata\\local\\temp\\pip-req-build-a3zv6crj\n",
      "  Resolved https://github.com/rcpsilva/MLBenchmarks to commit 932f7f77785d061bed8489a0d410cc104c612298\n",
      "  Preparing metadata (setup.py): started\n",
      "  Preparing metadata (setup.py): finished with status 'done'\n",
      "Requirement already satisfied: psutil in c:\\users\\rcpsi\\appdata\\local\\programs\\python\\python311\\lib\\site-packages (from MLBenchmarks==0.1) (5.9.5)\n",
      "Requirement already satisfied: tqdm in c:\\users\\rcpsi\\appdata\\local\\programs\\python\\python311\\lib\\site-packages (from MLBenchmarks==0.1) (4.66.1)\n",
      "Requirement already satisfied: numpy in c:\\users\\rcpsi\\appdata\\local\\programs\\python\\python311\\lib\\site-packages (from MLBenchmarks==0.1) (1.25.2)\n",
      "Requirement already satisfied: scikit-learn in c:\\users\\rcpsi\\appdata\\local\\programs\\python\\python311\\lib\\site-packages (from MLBenchmarks==0.1) (1.3.0)\n",
      "Requirement already satisfied: pandas in c:\\users\\rcpsi\\appdata\\local\\programs\\python\\python311\\lib\\site-packages (from MLBenchmarks==0.1) (2.1.0)\n",
      "Requirement already satisfied: openpyxl in c:\\users\\rcpsi\\appdata\\local\\programs\\python\\python311\\lib\\site-packages (from MLBenchmarks==0.1) (3.1.2)\n",
      "Requirement already satisfied: setuptools in c:\\users\\rcpsi\\appdata\\local\\programs\\python\\python311\\lib\\site-packages (from MLBenchmarks==0.1) (65.5.0)\n",
      "Requirement already satisfied: et-xmlfile in c:\\users\\rcpsi\\appdata\\local\\programs\\python\\python311\\lib\\site-packages (from openpyxl->MLBenchmarks==0.1) (1.1.0)\n",
      "Requirement already satisfied: python-dateutil>=2.8.2 in c:\\users\\rcpsi\\appdata\\local\\programs\\python\\python311\\lib\\site-packages (from pandas->MLBenchmarks==0.1) (2.8.2)\n",
      "Requirement already satisfied: pytz>=2020.1 in c:\\users\\rcpsi\\appdata\\local\\programs\\python\\python311\\lib\\site-packages (from pandas->MLBenchmarks==0.1) (2022.7.1)\n",
      "Requirement already satisfied: tzdata>=2022.1 in c:\\users\\rcpsi\\appdata\\local\\programs\\python\\python311\\lib\\site-packages (from pandas->MLBenchmarks==0.1) (2023.3)\n",
      "Requirement already satisfied: scipy>=1.5.0 in c:\\users\\rcpsi\\appdata\\local\\programs\\python\\python311\\lib\\site-packages (from scikit-learn->MLBenchmarks==0.1) (1.10.0)\n",
      "Requirement already satisfied: joblib>=1.1.1 in c:\\users\\rcpsi\\appdata\\local\\programs\\python\\python311\\lib\\site-packages (from scikit-learn->MLBenchmarks==0.1) (1.2.0)\n",
      "Requirement already satisfied: threadpoolctl>=2.0.0 in c:\\users\\rcpsi\\appdata\\local\\programs\\python\\python311\\lib\\site-packages (from scikit-learn->MLBenchmarks==0.1) (3.1.0)\n",
      "Requirement already satisfied: colorama in c:\\users\\rcpsi\\appdata\\roaming\\python\\python311\\site-packages (from tqdm->MLBenchmarks==0.1) (0.4.6)\n",
      "Requirement already satisfied: six>=1.5 in c:\\users\\rcpsi\\appdata\\local\\programs\\python\\python311\\lib\\site-packages (from python-dateutil>=2.8.2->pandas->MLBenchmarks==0.1) (1.16.0)\n"
     ]
    }
   ],
   "source": [
    "!pip install git+https://github.com/rcpsilva/MLBenchmarks@main"
   ]
  },
  {
   "cell_type": "markdown",
   "metadata": {},
   "source": [
    "## Imports"
   ]
  },
  {
   "cell_type": "code",
   "execution_count": 2,
   "metadata": {},
   "outputs": [],
   "source": [
    "from sklearn.linear_model import LogisticRegression\n",
    "from sklearn.tree import DecisionTreeClassifier\n",
    "from sklearn.pipeline import Pipeline, FeatureUnion\n",
    "from sklearn.decomposition import PCA\n",
    "from sklearn.preprocessing import PolynomialFeatures\n",
    "from MLBenchmarks.benchmarking_methods  import load_classification_datasets, run_cross_dataset_benchmark_models\n",
    "import warnings\n",
    "warnings.filterwarnings(\"ignore\")"
   ]
  },
  {
   "cell_type": "markdown",
   "metadata": {},
   "source": [
    "## Load datasets"
   ]
  },
  {
   "cell_type": "code",
   "execution_count": 3,
   "metadata": {},
   "outputs": [
    {
     "name": "stdout",
     "output_type": "stream",
     "text": [
      "Running load_dry_bean ...\n",
      "Running load_mushroom ...\n",
      "Running load_spambase ...\n",
      "Running load_student_dropout ...\n",
      "Running load_wine ...\n"
     ]
    }
   ],
   "source": [
    "# Load all the available regression datasets\n",
    "datasets = load_classification_datasets()"
   ]
  },
  {
   "cell_type": "markdown",
   "metadata": {},
   "source": [
    "## Define models and pipelines"
   ]
  },
  {
   "cell_type": "code",
   "execution_count": 4,
   "metadata": {},
   "outputs": [],
   "source": [
    "# Benchmark pipelines\n",
    "pipeline_linear_rf = Pipeline([\n",
    "    ('feature_extraction', FeatureUnion([\n",
    "        ('pca', PCA(n_components=5)),\n",
    "        ('polynomial_features', PolynomialFeatures(degree=2)),\n",
    "    ])),\n",
    "    ('regressor', DecisionTreeClassifier())\n",
    "])\n",
    "\n",
    "# Add the modified pipeline and selected models to a dictionary dictionary\n",
    "models = {\n",
    "    \"Logistic Regression\": LogisticRegression(),\n",
    "    \"Decision Tree Classifier\": DecisionTreeClassifier(),\n",
    "    \"Pipeline (Linear + Decision Tree)\": pipeline_linear_rf\n",
    "}\n"
   ]
  },
  {
   "cell_type": "markdown",
   "metadata": {},
   "source": [
    "## Define Evaluation Metrics"
   ]
  },
  {
   "cell_type": "code",
   "execution_count": 5,
   "metadata": {},
   "outputs": [],
   "source": [
    "metrics = ['accuracy','f1_weighted'] # accepts scikit-learn metrics"
   ]
  },
  {
   "cell_type": "markdown",
   "metadata": {},
   "source": [
    "## Run experiment"
   ]
  },
  {
   "cell_type": "code",
   "execution_count": 6,
   "metadata": {},
   "outputs": [
    {
     "name": "stderr",
     "output_type": "stream",
     "text": [
      "100%|██████████| 5/5 [00:03<00:00,  1.55it/s]\n",
      "100%|██████████| 5/5 [00:04<00:00,  1.04it/s]\n",
      "100%|██████████| 5/5 [01:21<00:00, 16.29s/it]\n",
      "100%|██████████| 3/3 [01:29<00:00, 29.83s/it]\n"
     ]
    }
   ],
   "source": [
    "output_json = 'clasification_benchmarks.json'\n",
    "res = run_cross_dataset_benchmark_models(models, datasets, metrics, output_json, cv=5)"
   ]
  },
  {
   "cell_type": "markdown",
   "metadata": {},
   "source": [
    "## Print results"
   ]
  },
  {
   "cell_type": "code",
   "execution_count": 7,
   "metadata": {},
   "outputs": [],
   "source": [
    "import numpy as np"
   ]
  },
  {
   "cell_type": "markdown",
   "metadata": {},
   "source": [
    "### Print in natural order "
   ]
  },
  {
   "cell_type": "code",
   "execution_count": 8,
   "metadata": {},
   "outputs": [
    {
     "name": "stdout",
     "output_type": "stream",
     "text": [
      "Logistic Regression\n",
      "\tload_dry_bean\n",
      "\t\tfit_time: 0.300 +- 0.112\n",
      "\t\tscore_time: 0.003 +- 0.000\n",
      "\t\ttest_accuracy: 0.629 +- 0.193\n",
      "\t\ttest_f1_weighted: 0.601 +- 0.223\n",
      "\t\tmemory_usage(MB): 0.000 +- 0.000\n",
      "\tload_mushroom\n",
      "\t\tfit_time: 0.058 +- 0.008\n",
      "\t\tscore_time: 0.003 +- 0.000\n",
      "\t\ttest_accuracy: 0.840 +- 0.146\n",
      "\t\ttest_f1_weighted: 0.836 +- 0.149\n",
      "\t\tmemory_usage(MB): 0.000 +- 0.000\n",
      "\tload_spambase\n",
      "\t\tfit_time: 0.062 +- 0.005\n",
      "\t\tscore_time: 0.002 +- 0.001\n",
      "\t\ttest_accuracy: 0.905 +- 0.036\n",
      "\t\ttest_f1_weighted: 0.905 +- 0.036\n",
      "\t\tmemory_usage(MB): 0.000 +- 0.000\n",
      "\tload_student_dropout\n",
      "\t\tfit_time: 0.088 +- 0.006\n",
      "\t\tscore_time: 0.002 +- 0.000\n",
      "\t\ttest_accuracy: 0.680 +- 0.015\n",
      "\t\ttest_f1_weighted: 0.628 +- 0.013\n",
      "\t\tmemory_usage(MB): 0.000 +- 0.000\n",
      "\tload_wine\n",
      "\t\tfit_time: 0.016 +- 0.002\n",
      "\t\tscore_time: 0.002 +- 0.001\n",
      "\t\ttest_accuracy: 0.956 +- 0.042\n",
      "\t\ttest_f1_weighted: 0.955 +- 0.042\n",
      "\t\tmemory_usage(MB): 0.000 +- 0.000\n",
      "Decision Tree Classifier\n",
      "\tload_dry_bean\n",
      "\t\tfit_time: 0.530 +- 0.058\n",
      "\t\tscore_time: 0.003 +- 0.000\n",
      "\t\ttest_accuracy: 0.564 +- 0.166\n",
      "\t\ttest_f1_weighted: 0.504 +- 0.180\n",
      "\t\tmemory_usage(MB): 0.012 +- 0.000\n",
      "\tload_mushroom\n",
      "\t\tfit_time: 0.007 +- 0.001\n",
      "\t\tscore_time: 0.003 +- 0.001\n",
      "\t\ttest_accuracy: 0.920 +- 0.110\n",
      "\t\ttest_f1_weighted: 0.915 +- 0.118\n",
      "\t\tmemory_usage(MB): 0.000 +- 0.000\n",
      "\tload_spambase\n",
      "\t\tfit_time: 0.114 +- 0.013\n",
      "\t\tscore_time: 0.002 +- 0.000\n",
      "\t\ttest_accuracy: 0.885 +- 0.053\n",
      "\t\ttest_f1_weighted: 0.886 +- 0.052\n",
      "\t\tmemory_usage(MB): 0.000 +- 0.000\n",
      "\tload_student_dropout\n",
      "\t\tfit_time: 0.068 +- 0.017\n",
      "\t\tscore_time: 0.004 +- 0.002\n",
      "\t\ttest_accuracy: 0.674 +- 0.009\n",
      "\t\ttest_f1_weighted: 0.675 +- 0.009\n",
      "\t\tmemory_usage(MB): 0.000 +- 0.000\n",
      "\tload_wine\n",
      "\t\tfit_time: 0.005 +- 0.004\n",
      "\t\tscore_time: 0.005 +- 0.004\n",
      "\t\ttest_accuracy: 0.871 +- 0.057\n",
      "\t\ttest_f1_weighted: 0.868 +- 0.061\n",
      "\t\tmemory_usage(MB): 0.000 +- 0.000\n",
      "Pipeline (Linear + Decision Tree)\n",
      "\tload_dry_bean\n",
      "\t\tfit_time: 5.795 +- 0.123\n",
      "\t\tscore_time: 0.009 +- 0.002\n",
      "\t\ttest_accuracy: 0.620 +- 0.157\n",
      "\t\ttest_f1_weighted: 0.567 +- 0.158\n",
      "\t\tmemory_usage(MB): 0.000 +- 0.000\n",
      "\tload_mushroom\n",
      "\t\tfit_time: 0.159 +- 0.031\n",
      "\t\tscore_time: 0.008 +- 0.002\n",
      "\t\ttest_accuracy: 0.899 +- 0.137\n",
      "\t\ttest_f1_weighted: 0.889 +- 0.152\n",
      "\t\tmemory_usage(MB): 0.004 +- 0.000\n",
      "\tload_spambase\n",
      "\t\tfit_time: 4.871 +- 0.506\n",
      "\t\tscore_time: 0.024 +- 0.002\n",
      "\t\ttest_accuracy: 0.885 +- 0.046\n",
      "\t\ttest_f1_weighted: 0.885 +- 0.045\n",
      "\t\tmemory_usage(MB): 0.000 +- 0.000\n",
      "\tload_student_dropout\n",
      "\t\tfit_time: 2.041 +- 0.076\n",
      "\t\tscore_time: 0.011 +- 0.001\n",
      "\t\ttest_accuracy: 0.673 +- 0.012\n",
      "\t\ttest_f1_weighted: 0.676 +- 0.011\n",
      "\t\tmemory_usage(MB): 0.008 +- 0.000\n",
      "\tload_wine\n",
      "\t\tfit_time: 0.010 +- 0.001\n",
      "\t\tscore_time: 0.002 +- 0.001\n",
      "\t\ttest_accuracy: 0.922 +- 0.064\n",
      "\t\ttest_f1_weighted: 0.921 +- 0.065\n",
      "\t\tmemory_usage(MB): 0.000 +- 0.000\n"
     ]
    }
   ],
   "source": [
    "for model in res:\n",
    "    print(f'{model}')\n",
    "    for dataset in res[model]:\n",
    "        print(f'\\t{dataset}')\n",
    "        for metric in res[model][dataset]:\n",
    "            results = res[model][dataset][metric]\n",
    "            print(f'\\t\\t{metric}: {np.mean(results):.3f} +- {np.std(results):.3f}')"
   ]
  },
  {
   "cell_type": "markdown",
   "metadata": {},
   "source": [
    "### Compare results in each dataset"
   ]
  },
  {
   "cell_type": "code",
   "execution_count": 9,
   "metadata": {},
   "outputs": [
    {
     "data": {
      "text/plain": [
       "['Logistic Regression',\n",
       " 'Decision Tree Classifier',\n",
       " 'Pipeline (Linear + Decision Tree)']"
      ]
     },
     "execution_count": 9,
     "metadata": {},
     "output_type": "execute_result"
    }
   ],
   "source": [
    "models = list(res.keys())\n",
    "models"
   ]
  },
  {
   "cell_type": "code",
   "execution_count": 11,
   "metadata": {},
   "outputs": [
    {
     "name": "stdout",
     "output_type": "stream",
     "text": [
      "['Logistic Regression', 'Decision Tree Classifier', 'Pipeline (Linear + Decision Tree)']\n",
      "['load_dry_bean', 'load_mushroom', 'load_spambase', 'load_student_dropout', 'load_wine']\n",
      "['fit_time', 'score_time', 'test_accuracy', 'test_f1_weighted', 'memory_usage(MB)']\n",
      "load_dry_bean\n",
      "\ttest_f1_weighted\n",
      "\t\t                Logistic Regression:\t 0.601 \t +- 0.223\n",
      "\t\t           Decision Tree Classifier:\t 0.504 \t +- 0.180\n",
      "\t\t  Pipeline (Linear + Decision Tree):\t 0.567 \t +- 0.158\n",
      "load_mushroom\n",
      "\ttest_f1_weighted\n",
      "\t\t                Logistic Regression:\t 0.836 \t +- 0.149\n",
      "\t\t           Decision Tree Classifier:\t 0.915 \t +- 0.118\n",
      "\t\t  Pipeline (Linear + Decision Tree):\t 0.889 \t +- 0.152\n",
      "load_spambase\n",
      "\ttest_f1_weighted\n",
      "\t\t                Logistic Regression:\t 0.905 \t +- 0.036\n",
      "\t\t           Decision Tree Classifier:\t 0.886 \t +- 0.052\n",
      "\t\t  Pipeline (Linear + Decision Tree):\t 0.885 \t +- 0.045\n",
      "load_student_dropout\n",
      "\ttest_f1_weighted\n",
      "\t\t                Logistic Regression:\t 0.628 \t +- 0.013\n",
      "\t\t           Decision Tree Classifier:\t 0.675 \t +- 0.009\n",
      "\t\t  Pipeline (Linear + Decision Tree):\t 0.676 \t +- 0.011\n",
      "load_wine\n",
      "\ttest_f1_weighted\n",
      "\t\t                Logistic Regression:\t 0.955 \t +- 0.042\n",
      "\t\t           Decision Tree Classifier:\t 0.868 \t +- 0.061\n",
      "\t\t  Pipeline (Linear + Decision Tree):\t 0.921 \t +- 0.065\n"
     ]
    }
   ],
   "source": [
    "models = list(res.keys())\n",
    "datasets = list(res[models[0]].keys())\n",
    "metrics = list(res[models[0]][datasets[0]].keys())\n",
    "\n",
    "print(models)\n",
    "print(datasets)\n",
    "print(metrics)\n",
    "\n",
    "for dataset in datasets:\n",
    "    print(f'{dataset}')\n",
    "    for metric in metrics[3:4]: # f1_weighted\n",
    "        print(f'\\t{metric}')\n",
    "        for model in models:\n",
    "            print(f'\\t\\t{model:>35}:\\t {np.mean(res[model][dataset][metric]):.3f} \\t +- {np.std(res[model][dataset][metric]):.3f}')"
   ]
  },
  {
   "cell_type": "code",
   "execution_count": null,
   "metadata": {},
   "outputs": [],
   "source": []
  }
 ],
 "metadata": {
  "kernelspec": {
   "display_name": "Python 3",
   "language": "python",
   "name": "python3"
  },
  "language_info": {
   "codemirror_mode": {
    "name": "ipython",
    "version": 3
   },
   "file_extension": ".py",
   "mimetype": "text/x-python",
   "name": "python",
   "nbconvert_exporter": "python",
   "pygments_lexer": "ipython3",
   "version": "3.11.1"
  },
  "orig_nbformat": 4
 },
 "nbformat": 4,
 "nbformat_minor": 2
}
