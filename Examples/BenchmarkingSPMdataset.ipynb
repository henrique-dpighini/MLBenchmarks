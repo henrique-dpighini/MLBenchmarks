{
 "cells": [
  {
   "cell_type": "code",
   "execution_count": 1,
   "metadata": {},
   "outputs": [
    {
     "name": "stdout",
     "output_type": "stream",
     "text": [
      "Found existing installation: MLBenchmarks 0.1\n",
      "Uninstalling MLBenchmarks-0.1:\n",
      "  Successfully uninstalled MLBenchmarks-0.1\n",
      "Collecting git+https://github.com/rcpsilva/MLBenchmarks@main\n",
      "  Cloning https://github.com/rcpsilva/MLBenchmarks (to revision main) to c:\\users\\rcpsi\\appdata\\local\\temp\\pip-req-build-6pu8aneq\n",
      "  Resolved https://github.com/rcpsilva/MLBenchmarks to commit 3cb49d0246c28de31d00887c15f3ded9871175ae\n",
      "  Installing build dependencies: started\n",
      "  Installing build dependencies: finished with status 'done'\n",
      "  Getting requirements to build wheel: started\n",
      "  Getting requirements to build wheel: finished with status 'done'\n",
      "  Preparing metadata (pyproject.toml): started\n",
      "  Preparing metadata (pyproject.toml): finished with status 'done'\n",
      "Requirement already satisfied: psutil in c:\\users\\rcpsi\\appdata\\roaming\\python\\python312\\site-packages (from MLBenchmarks==0.1) (5.9.6)\n",
      "Requirement already satisfied: tqdm in c:\\users\\rcpsi\\appdata\\local\\programs\\python\\python312\\lib\\site-packages (from MLBenchmarks==0.1) (4.66.1)\n",
      "Requirement already satisfied: numpy in c:\\users\\rcpsi\\appdata\\local\\programs\\python\\python312\\lib\\site-packages (from MLBenchmarks==0.1) (1.26.1)\n",
      "Requirement already satisfied: scikit-learn in c:\\users\\rcpsi\\appdata\\local\\programs\\python\\python312\\lib\\site-packages (from MLBenchmarks==0.1) (1.3.2)\n",
      "Requirement already satisfied: pandas in c:\\users\\rcpsi\\appdata\\local\\programs\\python\\python312\\lib\\site-packages (from MLBenchmarks==0.1) (2.1.2)\n",
      "Requirement already satisfied: openpyxl in c:\\users\\rcpsi\\appdata\\local\\programs\\python\\python312\\lib\\site-packages (from MLBenchmarks==0.1) (3.1.2)\n",
      "Requirement already satisfied: setuptools in c:\\users\\rcpsi\\appdata\\local\\programs\\python\\python312\\lib\\site-packages (from MLBenchmarks==0.1) (68.2.2)\n",
      "Requirement already satisfied: xlrd in c:\\users\\rcpsi\\appdata\\local\\programs\\python\\python312\\lib\\site-packages (from MLBenchmarks==0.1) (2.0.1)\n",
      "Requirement already satisfied: ucimlrepo in c:\\users\\rcpsi\\appdata\\local\\programs\\python\\python312\\lib\\site-packages (from MLBenchmarks==0.1) (0.0.3)\n",
      "Requirement already satisfied: et-xmlfile in c:\\users\\rcpsi\\appdata\\local\\programs\\python\\python312\\lib\\site-packages (from openpyxl->MLBenchmarks==0.1) (1.1.0)\n",
      "Requirement already satisfied: python-dateutil>=2.8.2 in c:\\users\\rcpsi\\appdata\\roaming\\python\\python312\\site-packages (from pandas->MLBenchmarks==0.1) (2.8.2)\n",
      "Requirement already satisfied: pytz>=2020.1 in c:\\users\\rcpsi\\appdata\\local\\programs\\python\\python312\\lib\\site-packages (from pandas->MLBenchmarks==0.1) (2023.3.post1)\n",
      "Requirement already satisfied: tzdata>=2022.1 in c:\\users\\rcpsi\\appdata\\local\\programs\\python\\python312\\lib\\site-packages (from pandas->MLBenchmarks==0.1) (2023.3)\n",
      "Requirement already satisfied: scipy>=1.5.0 in c:\\users\\rcpsi\\appdata\\local\\programs\\python\\python312\\lib\\site-packages (from scikit-learn->MLBenchmarks==0.1) (1.11.3)\n",
      "Requirement already satisfied: joblib>=1.1.1 in c:\\users\\rcpsi\\appdata\\local\\programs\\python\\python312\\lib\\site-packages (from scikit-learn->MLBenchmarks==0.1) (1.3.2)\n",
      "Requirement already satisfied: threadpoolctl>=2.0.0 in c:\\users\\rcpsi\\appdata\\local\\programs\\python\\python312\\lib\\site-packages (from scikit-learn->MLBenchmarks==0.1) (3.2.0)\n",
      "Requirement already satisfied: colorama in c:\\users\\rcpsi\\appdata\\roaming\\python\\python312\\site-packages (from tqdm->MLBenchmarks==0.1) (0.4.6)\n",
      "Requirement already satisfied: six>=1.5 in c:\\users\\rcpsi\\appdata\\roaming\\python\\python312\\site-packages (from python-dateutil>=2.8.2->pandas->MLBenchmarks==0.1) (1.16.0)\n",
      "Building wheels for collected packages: MLBenchmarks\n",
      "  Building wheel for MLBenchmarks (pyproject.toml): started\n",
      "  Building wheel for MLBenchmarks (pyproject.toml): finished with status 'done'\n",
      "  Created wheel for MLBenchmarks: filename=MLBenchmarks-0.1-py3-none-any.whl size=18546 sha256=d55c940bc349c1ec2b88c7761ddb6710b1a468f52af9dfdcb475bab3da164af6\n",
      "  Stored in directory: C:\\Users\\rcpsi\\AppData\\Local\\Temp\\pip-ephem-wheel-cache-6ork5fud\\wheels\\95\\2e\\2f\\f18ba9608b3638fe5fb531bf19cae229451207cca1e2ba1b94\n",
      "Successfully built MLBenchmarks\n",
      "Installing collected packages: MLBenchmarks\n",
      "Successfully installed MLBenchmarks-0.1\n"
     ]
    },
    {
     "name": "stderr",
     "output_type": "stream",
     "text": [
      "  Running command git clone --filter=blob:none --quiet https://github.com/rcpsilva/MLBenchmarks 'C:\\Users\\rcpsi\\AppData\\Local\\Temp\\pip-req-build-6pu8aneq'\n"
     ]
    }
   ],
   "source": [
    "!pip uninstall -y MLBenchmarks && pip install git+https://github.com/rcpsilva/MLBenchmarks@main"
   ]
  },
  {
   "cell_type": "code",
   "execution_count": 2,
   "metadata": {},
   "outputs": [],
   "source": [
    "from sklearn.linear_model import LinearRegression\n",
    "from sklearn.tree import DecisionTreeRegressor\n",
    "from sklearn.ensemble import RandomForestRegressor, GradientBoostingRegressor, HistGradientBoostingRegressor\n",
    "from sklearn.pipeline import Pipeline, FeatureUnion\n",
    "from sklearn.decomposition import PCA\n",
    "from sklearn.preprocessing import PolynomialFeatures\n",
    "from MLBenchmarks.benchmarking_methods  import load_regression_datasets, run_cross_dataset_benchmark_models, load_specific_datasets"
   ]
  },
  {
   "cell_type": "code",
   "execution_count": 3,
   "metadata": {},
   "outputs": [
    {
     "name": "stdout",
     "output_type": "stream",
     "text": [
      "Running load_spm_demagnetization_FEM ...\n",
      "Running load_spm_demagnetization_analytical ...\n"
     ]
    }
   ],
   "source": [
    "datasets = load_specific_datasets(['load_spm_demagnetization_analytical','load_spm_demagnetization_FEM'])"
   ]
  },
  {
   "cell_type": "code",
   "execution_count": 4,
   "metadata": {},
   "outputs": [],
   "source": [
    "models = {'LR':LinearRegression(),\n",
    "          'DT':DecisionTreeRegressor(),\n",
    "          'RF':RandomForestRegressor(),\n",
    "          'GB':GradientBoostingRegressor(),\n",
    "          'HGB':HistGradientBoostingRegressor()}"
   ]
  },
  {
   "cell_type": "code",
   "execution_count": 5,
   "metadata": {},
   "outputs": [],
   "source": [
    "metrics = ['neg_mean_absolute_percentage_error','neg_mean_absolute_error','neg_root_mean_squared_error','explained_variance'] # accepts scikit-learn metrics"
   ]
  },
  {
   "cell_type": "code",
   "execution_count": 6,
   "metadata": {},
   "outputs": [
    {
     "name": "stderr",
     "output_type": "stream",
     "text": [
      "100%|██████████| 2/2 [00:00<00:00, 11.61it/s]\n",
      "100%|██████████| 2/2 [00:03<00:00,  1.81s/it]\n",
      "100%|██████████| 2/2 [05:59<00:00, 179.83s/it]\n",
      "100%|██████████| 2/2 [01:51<00:00, 55.67s/it]]\n",
      " 80%|████████  | 4/5 [07:54<02:24, 144.08s/it]c:\\Users\\rcpsi\\AppData\\Local\\Programs\\Python\\Python312\\Lib\\site-packages\\joblib\\externals\\loky\\backend\\context.py:136: UserWarning: Could not find the number of physical cores for the following reason:\n",
      "found 0 physical cores < 1\n",
      "Returning the number of logical cores instead. You can silence this warning by setting LOKY_MAX_CPU_COUNT to the number of cores you want to use.\n",
      "  warnings.warn(\n",
      "  File \"c:\\Users\\rcpsi\\AppData\\Local\\Programs\\Python\\Python312\\Lib\\site-packages\\joblib\\externals\\loky\\backend\\context.py\", line 282, in _count_physical_cores\n",
      "    raise ValueError(f\"found {cpu_count_physical} physical cores < 1\")\n",
      "100%|██████████| 2/2 [00:18<00:00,  9.30s/it]\n",
      "100%|██████████| 5/5 [08:13<00:00, 98.69s/it] \n"
     ]
    }
   ],
   "source": [
    "res = run_cross_dataset_benchmark_models(models, datasets, metrics, cv=10)"
   ]
  },
  {
   "cell_type": "code",
   "execution_count": 7,
   "metadata": {},
   "outputs": [
    {
     "name": "stdout",
     "output_type": "stream",
     "text": [
      "['LR', 'DT', 'RF', 'GB', 'HGB']\n",
      "['load_spm_demagnetization_FEM', 'load_spm_demagnetization_analytical']\n",
      "['fit_time', 'score_time', 'test_neg_mean_absolute_percentage_error', 'test_neg_mean_absolute_error', 'test_neg_root_mean_squared_error', 'test_explained_variance', 'memory_usage(MB)']\n",
      "load_spm_demagnetization_FEM\n",
      "\ttest_neg_mean_absolute_percentage_error\n",
      "\t\t                                 LR:\t 736971871021406.750 \t +- 77361027861526.188\n",
      "\t\t                                 DT:\t 33455311517609.445 \t +- 35566277237086.523\n",
      "\t\t                                 RF:\t 64954774054189.375 \t +- 24804485636744.664\n",
      "\t\t                                 GB:\t 232066474504916.312 \t +- 26042552425873.184\n",
      "\t\t                                HGB:\t 125886538645106.531 \t +- 13443386055705.713\n",
      "load_spm_demagnetization_analytical\n",
      "\ttest_neg_mean_absolute_percentage_error\n",
      "\t\t                                 LR:\t 3.128 \t +- 1.924\n",
      "\t\t                                 DT:\t 0.325 \t +- 0.462\n",
      "\t\t                                 RF:\t 0.408 \t +- 0.257\n",
      "\t\t                                 GB:\t 0.812 \t +- 0.441\n",
      "\t\t                                HGB:\t 0.674 \t +- 0.365\n"
     ]
    }
   ],
   "source": [
    "import numpy as np\n",
    "models = list(res.keys())\n",
    "datasets = list(res[models[0]].keys())\n",
    "metrics = list(res[models[0]][datasets[0]].keys())\n",
    "\n",
    "print(models)\n",
    "print(datasets)\n",
    "print(metrics)\n",
    "\n",
    "for dataset in datasets:\n",
    "    print(f'{dataset}')\n",
    "    for metric in metrics[2:3]: # assesing neg_mean_absolute_error\n",
    "        print(f'\\t{metric}')\n",
    "        for model in models:\n",
    "            print(f'\\t\\t{model:>35}:\\t {np.abs(np.mean(res[model][dataset][metric])):.3f} \\t +- {np.std(res[model][dataset][metric]):.3f}')"
   ]
  },
  {
   "cell_type": "code",
   "execution_count": null,
   "metadata": {},
   "outputs": [],
   "source": []
  }
 ],
 "metadata": {
  "kernelspec": {
   "display_name": "Python 3",
   "language": "python",
   "name": "python3"
  },
  "language_info": {
   "codemirror_mode": {
    "name": "ipython",
    "version": 3
   },
   "file_extension": ".py",
   "mimetype": "text/x-python",
   "name": "python",
   "nbconvert_exporter": "python",
   "pygments_lexer": "ipython3",
   "version": "3.12.0"
  }
 },
 "nbformat": 4,
 "nbformat_minor": 2
}
