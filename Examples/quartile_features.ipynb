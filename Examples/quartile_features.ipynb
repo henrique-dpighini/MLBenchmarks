{
 "cells": [
  {
   "cell_type": "markdown",
   "metadata": {},
   "source": [
    "# Distribution feature"
   ]
  },
  {
   "cell_type": "markdown",
   "metadata": {},
   "source": [
    "This notebook uses ML benchmarks to test a pipeline that build a new feature based on the terget variable distribution"
   ]
  },
  {
   "cell_type": "code",
   "execution_count": null,
   "metadata": {},
   "outputs": [],
   "source": [
    "!pip install git+https://github.com/rcpsilva/MLBenchmarks@main"
   ]
  },
  {
   "cell_type": "code",
   "execution_count": null,
   "metadata": {},
   "outputs": [],
   "source": [
    "from MLBenchmarks import classification_datasets_loaders as cdls\n",
    "from MLBenchmarks import regression_datasets_loaders as rdls\n",
    "from MLBenchmarks.benchmarking_methods import load_regression_datasets, run_cross_dataset_benchmark_models"
   ]
  },
  {
   "cell_type": "code",
   "execution_count": null,
   "metadata": {},
   "outputs": [],
   "source": [
    "from sklearn.pipeline import Pipeline, FeatureUnion\n",
    "from sklearn.base import BaseEstimator, TransformerMixin\n",
    "from sklearn.preprocessing import StandardScaler\n",
    "from sklearn.linear_model import LinearRegression\n",
    "from sklearn.ensemble import RandomForestClassifier, RandomForestRegressor\n",
    "from sklearn.tree import DecisionTreeClassifier,DecisionTreeRegressor\n",
    "import numpy as np"
   ]
  },
  {
   "cell_type": "code",
   "execution_count": null,
   "metadata": {},
   "outputs": [],
   "source": [
    "# Define a custom transformer (feature_model) to predict quartiles based on X\n",
    "class QuartileRandomForest(BaseEstimator, TransformerMixin):\n",
    "    def __init__(self):\n",
    "        self.quartile_classifier = RandomForestClassifier()  # You can use any classifier here\n",
    "    \n",
    "    def fit(self, X, y):\n",
    "        # Calculate quartiles for y\n",
    "        sorted_y = np.sort(y)\n",
    "        q1 = np.percentile(sorted_y, 25)\n",
    "        q2 = np.percentile(sorted_y, 50)\n",
    "        q3 = np.percentile(sorted_y, 75)\n",
    "        \n",
    "        # Create quartile labels for y\n",
    "        quartile_labels = np.array([self.get_quartile_label(value, q1, q2, q3) for value in y])\n",
    "        \n",
    "        # Fit the quartile classifier\n",
    "        self.quartile_classifier.fit(X, quartile_labels)\n",
    "        return self\n",
    "    \n",
    "    def transform(self, X):\n",
    "        # Predict quartiles for X\n",
    "        predicted_quartiles = self.quartile_classifier.predict(X).reshape(-1, 1)\n",
    "        return predicted_quartiles\n",
    "    \n",
    "    def get_quartile_label(self, value, q1, q2, q3):\n",
    "        if value <= q1:\n",
    "            return 1\n",
    "        elif value <= q2:\n",
    "            return 2\n",
    "        elif value <= q3:\n",
    "            return 3\n",
    "        else:\n",
    "            return 4"
   ]
  },
  {
   "cell_type": "code",
   "execution_count": null,
   "metadata": {},
   "outputs": [],
   "source": [
    "# Define a custom transformer (feature_model) to predict quartiles based on X\n",
    "class QuartileDecisionTree(BaseEstimator, TransformerMixin):\n",
    "    def __init__(self):\n",
    "        self.quartile_classifier = DecisionTreeClassifier()  # You can use any classifier here\n",
    "    \n",
    "    def fit(self, X, y):\n",
    "        # Calculate quartiles for y\n",
    "        sorted_y = np.sort(y)\n",
    "        q1 = np.percentile(sorted_y, 25)\n",
    "        q2 = np.percentile(sorted_y, 50)\n",
    "        q3 = np.percentile(sorted_y, 75)\n",
    "        \n",
    "        # Create quartile labels for y\n",
    "        quartile_labels = np.array([self.get_quartile_label(value, q1, q2, q3) for value in y])\n",
    "        \n",
    "        # Fit the quartile classifier\n",
    "        self.quartile_classifier.fit(X, quartile_labels)\n",
    "        return self\n",
    "    \n",
    "    def transform(self, X):\n",
    "        # Predict quartiles for X\n",
    "        predicted_quartiles = self.quartile_classifier.predict(X).reshape(-1, 1)\n",
    "        return predicted_quartiles\n",
    "    \n",
    "    def get_quartile_label(self, value, q1, q2, q3):\n",
    "        if value <= q1:\n",
    "            return 1\n",
    "        elif value <= q2:\n",
    "            return 2\n",
    "        elif value <= q3:\n",
    "            return 3\n",
    "        else:\n",
    "            return 4"
   ]
  },
  {
   "cell_type": "code",
   "execution_count": null,
   "metadata": {},
   "outputs": [],
   "source": [
    "# Create the final pipeline with a regression model\n",
    "dt_lr = Pipeline([\n",
    "    ('feature_union', FeatureUnion([\n",
    "                        ('original_features', StandardScaler()),  # Example: Standardize the original features (X)\n",
    "                        ('quartile_feature', QuartileDecisionTree())  # Use the custom quartile predictor\n",
    "                    ])),\n",
    "    ('regression_model', LinearRegression())  # You can use any regression model here\n",
    "])\n",
    "\n",
    "rf_lr = Pipeline([\n",
    "    ('feature_union', FeatureUnion([\n",
    "                        ('original_features', StandardScaler()),  # Example: Standardize the original features (X)\n",
    "                        ('quartile_feature', QuartileRandomForest())  # Use the custom quartile predictor\n",
    "                    ])),\n",
    "    ('regression_model', LinearRegression())  # You can use any regression model here\n",
    "])\n",
    "\n",
    "dt_dt = Pipeline([\n",
    "    ('feature_union', FeatureUnion([\n",
    "                        ('original_features', StandardScaler()),  # Example: Standardize the original features (X)\n",
    "                        ('quartile_feature', QuartileDecisionTree())  # Use the custom quartile predictor\n",
    "                    ])),\n",
    "    ('regression_model', DecisionTreeRegressor())  # You can use any regression model here\n",
    "])\n",
    "\n",
    "rf_dt = Pipeline([\n",
    "    ('feature_union', FeatureUnion([\n",
    "                        ('original_features', StandardScaler()),  # Example: Standardize the original features (X)\n",
    "                        ('quartile_feature', QuartileRandomForest())  # Use the custom quartile predictor\n",
    "                    ])),\n",
    "    ('regression_model', DecisionTreeRegressor())  # You can use any regression model here\n",
    "])"
   ]
  },
  {
   "cell_type": "code",
   "execution_count": null,
   "metadata": {},
   "outputs": [],
   "source": [
    "dataset = rdls.load_auto_mpg()\n",
    "X = dataset['data']\n",
    "y = dataset['target']\n",
    "\n",
    "pipeline = rf_dt\n",
    "\n",
    "# Fit the pipeline to the data\n",
    "pipeline.fit(X, y)\n",
    "\n",
    "# Make predictions\n",
    "y_pred = pipeline.predict(X)\n",
    "\n",
    "# Print the predictions\n",
    "print(\"Predicted y:\", y_pred)"
   ]
  },
  {
   "cell_type": "code",
   "execution_count": null,
   "metadata": {},
   "outputs": [],
   "source": [
    "# Add the modified pipeline and selected models to a dictionary dictionary\n",
    "models = {\n",
    "    \"dt+lr\": dt_lr,\n",
    "    \"rf+lr\": rf_lr,\n",
    "    \"dt+dt\": dt_dt,\n",
    "    \"rf+dt\": rf_dt,\n",
    "    \"DT\": DecisionTreeRegressor(),\n",
    "    \"LR\": LinearRegression(),\n",
    "}"
   ]
  },
  {
   "cell_type": "code",
   "execution_count": null,
   "metadata": {},
   "outputs": [],
   "source": [
    "metrics = ['neg_mean_absolute_percentage_error','neg_mean_absolute_error'] # accepts scikit-learn metrics"
   ]
  },
  {
   "cell_type": "code",
   "execution_count": null,
   "metadata": {},
   "outputs": [],
   "source": [
    "datasets = load_regression_datasets()\n",
    "output_json = 'quartile_features.json'\n",
    "res = run_cross_dataset_benchmark_models(models, datasets, metrics, output_json, cv=5)"
   ]
  },
  {
   "cell_type": "code",
   "execution_count": null,
   "metadata": {},
   "outputs": [],
   "source": [
    "models = list(res.keys())\n",
    "datasets = list(res[models[0]].keys())\n",
    "metrics = list(res[models[0]][datasets[0]].keys())\n",
    "\n",
    "print(models)\n",
    "print(datasets)\n",
    "print(metrics)\n",
    "\n",
    "for dataset in datasets:\n",
    "    print(f'{dataset}')\n",
    "    for metric in metrics[2:3]: # MAPE\n",
    "        print(f'\\t{metric}')\n",
    "        for model in models:\n",
    "            print(f'\\t\\t{model:>35}:\\t {np.mean(res[model][dataset][metric]):.3f} \\t +- {np.std(res[model][dataset][metric]):.3f}')"
   ]
  },
  {
   "cell_type": "code",
   "execution_count": null,
   "metadata": {},
   "outputs": [],
   "source": [
    "models = list(res.keys())\n",
    "datasets = list(res[models[0]].keys())\n",
    "metrics = list(res[models[0]][datasets[0]].keys())\n",
    "\n",
    "print(models)\n",
    "print(datasets)\n",
    "print(metrics)\n",
    "\n",
    "for dataset in datasets:\n",
    "    print(f'{dataset}')\n",
    "    for metric in metrics[3:4]: # mean_absolute_error\n",
    "        print(f'\\t{metric}')\n",
    "        for model in models:\n",
    "            print(f'\\t\\t{model:>35}:\\t {np.mean(res[model][dataset][metric]):.3f} \\t +- {np.std(res[model][dataset][metric]):.3f}')"
   ]
  },
  {
   "cell_type": "code",
   "execution_count": null,
   "metadata": {},
   "outputs": [],
   "source": []
  }
 ],
 "metadata": {
  "kernelspec": {
   "display_name": "Python 3",
   "language": "python",
   "name": "python3"
  },
  "language_info": {
   "codemirror_mode": {
    "name": "ipython",
    "version": 3
   },
   "file_extension": ".py",
   "mimetype": "text/x-python",
   "name": "python",
   "nbconvert_exporter": "python",
   "pygments_lexer": "ipython3",
   "version": "3.11.1"
  },
  "orig_nbformat": 4
 },
 "nbformat": 4,
 "nbformat_minor": 2
}
