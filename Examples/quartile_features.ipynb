{
 "cells": [
  {
   "cell_type": "markdown",
   "metadata": {},
   "source": [
    "# Distribution feature"
   ]
  },
  {
   "cell_type": "markdown",
   "metadata": {},
   "source": [
    "This notebook uses ML benchmarks to test a pipeline that build a new feature based on the terget variable distribution"
   ]
  },
  {
   "cell_type": "code",
   "execution_count": null,
   "metadata": {},
   "outputs": [],
   "source": [
    "!pip uninstall -y MLBenchmarks && pip install git+https://github.com/rcpsilva/MLBenchmarks@main"
   ]
  },
  {
   "cell_type": "code",
   "execution_count": null,
   "metadata": {},
   "outputs": [],
   "source": [
    "from MLBenchmarks import classification_datasets_loaders as cdls\n",
    "from MLBenchmarks import regression_datasets_loaders as rdls\n",
    "from MLBenchmarks.benchmarking_methods import load_regression_datasets, run_cross_dataset_benchmark_models"
   ]
  },
  {
   "cell_type": "code",
   "execution_count": null,
   "metadata": {},
   "outputs": [],
   "source": [
    "from sklearn.pipeline import Pipeline, FeatureUnion\n",
    "from sklearn.base import BaseEstimator, TransformerMixin\n",
    "from sklearn.preprocessing import StandardScaler\n",
    "from sklearn.linear_model import LinearRegression\n",
    "from sklearn.ensemble import RandomForestClassifier, RandomForestRegressor, GradientBoostingClassifier\n",
    "from sklearn.tree import DecisionTreeClassifier,DecisionTreeRegressor\n",
    "from xgboost import XGBRegressor,XGBClassifier\n",
    "import numpy as np"
   ]
  },
  {
   "cell_type": "code",
   "execution_count": null,
   "metadata": {},
   "outputs": [],
   "source": [
    "class QuartileFeatureRF(BaseEstimator, TransformerMixin):\n",
    "    def __init__(self):\n",
    "        self.quartile_classifier = RandomForestClassifier()\n",
    "\n",
    "    def fit(self, X, y):\n",
    "        q1, q2, q3 = np.percentile(np.sort(y), [25, 50, 75])\n",
    "        quartile_labels = [int(value > q1) + int(value > q2) + int(value > q3) for value in y]\n",
    "        self.quartile_classifier.fit(X, quartile_labels)\n",
    "        return self\n",
    "\n",
    "    def transform(self, X):\n",
    "        return self.quartile_classifier.predict(X).reshape(-1, 1)\n"
   ]
  },
  {
   "cell_type": "code",
   "execution_count": null,
   "metadata": {},
   "outputs": [],
   "source": [
    "class QuartileFeatureDT(BaseEstimator, TransformerMixin):\n",
    "    def __init__(self):\n",
    "        self.quartile_classifier = DecisionTreeClassifier()\n",
    "\n",
    "    def fit(self, X, y):\n",
    "        q1, q2, q3 = np.percentile(np.sort(y), [25, 50, 75])\n",
    "        quartile_labels = [int(value > q1) + int(value > q2) + int(value > q3) for value in y]\n",
    "        self.quartile_classifier.fit(X, quartile_labels)\n",
    "        return self\n",
    "\n",
    "    def transform(self, X):\n",
    "        return self.quartile_classifier.predict(X).reshape(-1, 1)"
   ]
  },
  {
   "cell_type": "code",
   "execution_count": null,
   "metadata": {},
   "outputs": [],
   "source": [
    "class QuartileFeatureGB(BaseEstimator, TransformerMixin):\n",
    "    def __init__(self):\n",
    "        self.quartile_classifier = GradientBoostingClassifier()\n",
    "\n",
    "    def fit(self, X, y):\n",
    "        q1, q2, q3 = np.percentile(np.sort(y), [25, 50, 75])\n",
    "        quartile_labels = [int(value > q1) + int(value > q2) + int(value > q3) for value in y]\n",
    "        self.quartile_classifier.fit(X, quartile_labels)\n",
    "        return self\n",
    "\n",
    "    def transform(self, X):\n",
    "        return self.quartile_classifier.predict(X).reshape(-1, 1)"
   ]
  },
  {
   "cell_type": "code",
   "execution_count": null,
   "metadata": {},
   "outputs": [],
   "source": [
    "# Create the final pipeline with a regression model\n",
    "DT_DT = Pipeline([\n",
    "    ('feature_union', FeatureUnion([\n",
    "                        ('original_features', StandardScaler()),  # Example: Standardize the original features (X)\n",
    "                        ('quartile_feature', QuartileFeatureDT())  # Use the custom quartile predictor\n",
    "                    ])),\n",
    "    ('regression_model', DecisionTreeRegressor(max_depth=3))  # You can use any regression model here\n",
    "])\n",
    "\n",
    "\n",
    "DT_RF = Pipeline([\n",
    "    ('feature_union', FeatureUnion([\n",
    "                        ('original_features', StandardScaler()),  # Example: Standardize the original features (X)\n",
    "                        ('quartile_feature', QuartileFeatureRF())  # Use the custom quartile predictor\n",
    "                    ])),\n",
    "    ('regression_model', DecisionTreeRegressor(max_depth=3))  # You can use any regression model here\n",
    "])\n",
    "\n",
    "DT_GB = Pipeline([\n",
    "    ('feature_union', FeatureUnion([\n",
    "                        ('original_features', StandardScaler()),  # Example: Standardize the original features (X)\n",
    "                        ('quartile_feature', QuartileFeatureGB())  # Use the custom quartile predictor\n",
    "                    ])),\n",
    "    ('regression_model', DecisionTreeRegressor(max_depth=3))  # You can use any regression model here\n",
    "])"
   ]
  },
  {
   "cell_type": "code",
   "execution_count": null,
   "metadata": {},
   "outputs": [],
   "source": [
    "# Add the modified pipeline and selected models to a dictionary dictionary\n",
    "models = {\n",
    "    \"DT\": DecisionTreeRegressor(max_depth=3),\n",
    "    \"DT_DT\": DT_DT,\n",
    "    \"DT_RF\": DT_RF,\n",
    "    \"DT_GB\": DT_GB,\n",
    "}"
   ]
  },
  {
   "cell_type": "code",
   "execution_count": null,
   "metadata": {},
   "outputs": [],
   "source": [
    "metrics = ['neg_mean_absolute_percentage_error','neg_mean_absolute_error'] # accepts scikit-learn metrics"
   ]
  },
  {
   "cell_type": "code",
   "execution_count": null,
   "metadata": {},
   "outputs": [],
   "source": [
    "datasets = load_regression_datasets()\n",
    "output_json = 'quartile_features.json'\n",
    "res = run_cross_dataset_benchmark_models(models, datasets, metrics, output_json, cv=5)"
   ]
  },
  {
   "cell_type": "code",
   "execution_count": null,
   "metadata": {},
   "outputs": [],
   "source": [
    "models = list(res.keys())\n",
    "datasets = list(res[models[0]].keys())\n",
    "metrics = list(res[models[0]][datasets[0]].keys())\n",
    "\n",
    "print(models)\n",
    "print(datasets)\n",
    "print(metrics)\n",
    "\n",
    "for dataset in datasets:\n",
    "    print(f'{dataset}')\n",
    "    for metric in metrics[2:3]: # MAPE\n",
    "        print(f'\\t{metric}')\n",
    "        for model in models:\n",
    "            print(f'\\t\\t{model:>35}:\\t {np.mean(res[model][dataset][metric]):.3f} \\t +- {np.std(res[model][dataset][metric]):.3f}')"
   ]
  },
  {
   "cell_type": "code",
   "execution_count": null,
   "metadata": {},
   "outputs": [],
   "source": [
    "models = list(res.keys())\n",
    "datasets = list(res[models[0]].keys())\n",
    "metrics = list(res[models[0]][datasets[0]].keys())\n",
    "\n",
    "print(models)\n",
    "print(datasets)\n",
    "print(metrics)\n",
    "\n",
    "for dataset in datasets:\n",
    "    print(f'{dataset}')\n",
    "    for metric in metrics[3:4]: # mean_absolute_error\n",
    "        print(f'\\t{metric}')\n",
    "        for model in models:\n",
    "            print(f'\\t\\t{model:>35}:\\t {np.mean(res[model][dataset][metric]):.3f} \\t +- {np.std(res[model][dataset][metric]):.3f}')"
   ]
  },
  {
   "cell_type": "code",
   "execution_count": null,
   "metadata": {},
   "outputs": [],
   "source": []
  }
 ],
 "metadata": {
  "kernelspec": {
   "display_name": "Python 3",
   "language": "python",
   "name": "python3"
  },
  "language_info": {
   "codemirror_mode": {
    "name": "ipython",
    "version": 3
   },
   "file_extension": ".py",
   "mimetype": "text/x-python",
   "name": "python",
   "nbconvert_exporter": "python",
   "pygments_lexer": "ipython3",
   "version": "3.11.1"
  },
  "orig_nbformat": 4
 },
 "nbformat": 4,
 "nbformat_minor": 2
}
