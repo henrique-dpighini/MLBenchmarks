{
 "cells": [
  {
   "cell_type": "markdown",
   "metadata": {},
   "source": [
    "# Distribution feature"
   ]
  },
  {
   "cell_type": "markdown",
   "metadata": {},
   "source": [
    "This notebook uses ML benchmarks to test a pipeline that build a new feature based on the terget variable distribution"
   ]
  },
  {
   "cell_type": "code",
   "execution_count": 1,
   "metadata": {},
   "outputs": [
    {
     "name": "stdout",
     "output_type": "stream",
     "text": [
      "Found existing installation: MLBenchmarks 0.1\n",
      "Uninstalling MLBenchmarks-0.1:\n",
      "  Successfully uninstalled MLBenchmarks-0.1\n",
      "Collecting git+https://github.com/rcpsilva/MLBenchmarks@main\n",
      "  Cloning https://github.com/rcpsilva/MLBenchmarks (to revision main) to c:\\users\\rcpsi\\appdata\\local\\temp\\pip-req-build-yr8tx_tz\n",
      "  Resolved https://github.com/rcpsilva/MLBenchmarks to commit a4661de432fcb82365c97a35e58b34897ddef248\n",
      "  Preparing metadata (setup.py): started\n",
      "  Preparing metadata (setup.py): finished with status 'done'\n",
      "Requirement already satisfied: psutil in c:\\users\\rcpsi\\appdata\\local\\programs\\python\\python311\\lib\\site-packages (from MLBenchmarks==0.1) (5.9.5)\n",
      "Requirement already satisfied: tqdm in c:\\users\\rcpsi\\appdata\\local\\programs\\python\\python311\\lib\\site-packages (from MLBenchmarks==0.1) (4.66.1)\n",
      "Requirement already satisfied: numpy in c:\\users\\rcpsi\\appdata\\local\\programs\\python\\python311\\lib\\site-packages (from MLBenchmarks==0.1) (1.25.2)\n",
      "Requirement already satisfied: scikit-learn in c:\\users\\rcpsi\\appdata\\local\\programs\\python\\python311\\lib\\site-packages (from MLBenchmarks==0.1) (1.3.0)\n",
      "Requirement already satisfied: pandas in c:\\users\\rcpsi\\appdata\\local\\programs\\python\\python311\\lib\\site-packages (from MLBenchmarks==0.1) (2.1.0)\n",
      "Requirement already satisfied: openpyxl in c:\\users\\rcpsi\\appdata\\local\\programs\\python\\python311\\lib\\site-packages (from MLBenchmarks==0.1) (3.1.2)\n",
      "Requirement already satisfied: setuptools in c:\\users\\rcpsi\\appdata\\local\\programs\\python\\python311\\lib\\site-packages (from MLBenchmarks==0.1) (65.5.0)\n",
      "Requirement already satisfied: et-xmlfile in c:\\users\\rcpsi\\appdata\\local\\programs\\python\\python311\\lib\\site-packages (from openpyxl->MLBenchmarks==0.1) (1.1.0)\n",
      "Requirement already satisfied: python-dateutil>=2.8.2 in c:\\users\\rcpsi\\appdata\\local\\programs\\python\\python311\\lib\\site-packages (from pandas->MLBenchmarks==0.1) (2.8.2)\n",
      "Requirement already satisfied: pytz>=2020.1 in c:\\users\\rcpsi\\appdata\\local\\programs\\python\\python311\\lib\\site-packages (from pandas->MLBenchmarks==0.1) (2022.7.1)\n",
      "Requirement already satisfied: tzdata>=2022.1 in c:\\users\\rcpsi\\appdata\\local\\programs\\python\\python311\\lib\\site-packages (from pandas->MLBenchmarks==0.1) (2023.3)\n",
      "Requirement already satisfied: scipy>=1.5.0 in c:\\users\\rcpsi\\appdata\\local\\programs\\python\\python311\\lib\\site-packages (from scikit-learn->MLBenchmarks==0.1) (1.10.0)\n",
      "Requirement already satisfied: joblib>=1.1.1 in c:\\users\\rcpsi\\appdata\\local\\programs\\python\\python311\\lib\\site-packages (from scikit-learn->MLBenchmarks==0.1) (1.2.0)\n",
      "Requirement already satisfied: threadpoolctl>=2.0.0 in c:\\users\\rcpsi\\appdata\\local\\programs\\python\\python311\\lib\\site-packages (from scikit-learn->MLBenchmarks==0.1) (3.1.0)\n",
      "Requirement already satisfied: colorama in c:\\users\\rcpsi\\appdata\\roaming\\python\\python311\\site-packages (from tqdm->MLBenchmarks==0.1) (0.4.6)\n",
      "Requirement already satisfied: six>=1.5 in c:\\users\\rcpsi\\appdata\\local\\programs\\python\\python311\\lib\\site-packages (from python-dateutil>=2.8.2->pandas->MLBenchmarks==0.1) (1.16.0)\n",
      "Building wheels for collected packages: MLBenchmarks\n",
      "  Building wheel for MLBenchmarks (setup.py): started\n",
      "  Building wheel for MLBenchmarks (setup.py): finished with status 'done'\n",
      "  Created wheel for MLBenchmarks: filename=MLBenchmarks-0.1-py3-none-any.whl size=17375 sha256=23fd602bb8bb2eebe7fe4dfc6d8a31f1bc1ee06570eea94176a9af8836d3f794\n",
      "  Stored in directory: C:\\Users\\rcpsi\\AppData\\Local\\Temp\\pip-ephem-wheel-cache-o2ludehf\\wheels\\c3\\f7\\95\\155bc37c57bbc7281b0addda642a4521ee2d82c583940f9692\n",
      "Successfully built MLBenchmarks\n",
      "Installing collected packages: MLBenchmarks\n",
      "Successfully installed MLBenchmarks-0.1\n"
     ]
    },
    {
     "name": "stderr",
     "output_type": "stream",
     "text": [
      "  Running command git clone --filter=blob:none --quiet https://github.com/rcpsilva/MLBenchmarks 'C:\\Users\\rcpsi\\AppData\\Local\\Temp\\pip-req-build-yr8tx_tz'\n"
     ]
    }
   ],
   "source": [
    "!pip uninstall -y MLBenchmarks && pip install git+https://github.com/rcpsilva/MLBenchmarks@main"
   ]
  },
  {
   "cell_type": "code",
   "execution_count": 2,
   "metadata": {},
   "outputs": [],
   "source": [
    "from MLBenchmarks import classification_datasets_loaders as cdls\n",
    "from MLBenchmarks import regression_datasets_loaders as rdls\n",
    "from MLBenchmarks.benchmarking_methods import load_regression_datasets, run_cross_dataset_benchmark_models"
   ]
  },
  {
   "cell_type": "code",
   "execution_count": 3,
   "metadata": {},
   "outputs": [],
   "source": [
    "from sklearn.pipeline import Pipeline, FeatureUnion\n",
    "from sklearn.base import BaseEstimator, TransformerMixin\n",
    "from sklearn.preprocessing import StandardScaler\n",
    "from sklearn.linear_model import LinearRegression\n",
    "from sklearn.ensemble import RandomForestClassifier, RandomForestRegressor, GradientBoostingClassifier\n",
    "from sklearn.tree import DecisionTreeClassifier,DecisionTreeRegressor\n",
    "from xgboost import XGBRegressor,XGBClassifier\n",
    "import numpy as np"
   ]
  },
  {
   "cell_type": "code",
   "execution_count": 4,
   "metadata": {},
   "outputs": [],
   "source": [
    "class QuartileFeatureRF(BaseEstimator, TransformerMixin):\n",
    "    def __init__(self):\n",
    "        self.quartile_classifier = RandomForestClassifier()\n",
    "\n",
    "    def fit(self, X, y):\n",
    "        q1, q2, q3 = np.percentile(np.sort(y), [25, 50, 75])\n",
    "        quartile_labels = [int(value > q1) + int(value > q2) + int(value > q3) for value in y]\n",
    "        self.quartile_classifier.fit(X, quartile_labels)\n",
    "        return self\n",
    "\n",
    "    def transform(self, X):\n",
    "        return self.quartile_classifier.predict(X).reshape(-1, 1)\n"
   ]
  },
  {
   "cell_type": "code",
   "execution_count": 5,
   "metadata": {},
   "outputs": [],
   "source": [
    "class QuartileFeatureDT(BaseEstimator, TransformerMixin):\n",
    "    def __init__(self):\n",
    "        self.quartile_classifier = DecisionTreeClassifier()\n",
    "\n",
    "    def fit(self, X, y):\n",
    "        q1, q2, q3 = np.percentile(np.sort(y), [25, 50, 75])\n",
    "        quartile_labels = [int(value > q1) + int(value > q2) + int(value > q3) for value in y]\n",
    "        self.quartile_classifier.fit(X, quartile_labels)\n",
    "        return self\n",
    "\n",
    "    def transform(self, X):\n",
    "        return self.quartile_classifier.predict(X).reshape(-1, 1)"
   ]
  },
  {
   "cell_type": "code",
   "execution_count": 6,
   "metadata": {},
   "outputs": [],
   "source": [
    "class QuartileFeatureGB(BaseEstimator, TransformerMixin):\n",
    "    def __init__(self):\n",
    "        self.quartile_classifier = GradientBoostingClassifier()\n",
    "\n",
    "    def fit(self, X, y):\n",
    "        q1, q2, q3 = np.percentile(np.sort(y), [25, 50, 75])\n",
    "        quartile_labels = [int(value > q1) + int(value > q2) + int(value > q3) for value in y]\n",
    "        self.quartile_classifier.fit(X, quartile_labels)\n",
    "        return self\n",
    "\n",
    "    def transform(self, X):\n",
    "        return self.quartile_classifier.predict(X).reshape(-1, 1)"
   ]
  },
  {
   "cell_type": "code",
   "execution_count": 7,
   "metadata": {},
   "outputs": [],
   "source": [
    "# Create the final pipeline with a regression model\n",
    "base_model = DecisionTreeRegressor(max_depth=3)\n",
    "DT_DT = Pipeline([\n",
    "    ('feature_union', FeatureUnion([\n",
    "                        ('original_features', StandardScaler()),  # Example: Standardize the original features (X)\n",
    "                        ('quartile_feature', QuartileFeatureDT())  # Use the custom quartile predictor\n",
    "                    ])),\n",
    "    ('regression_model', base_model)  # You can use any regression model here\n",
    "])\n",
    "\n",
    "\n",
    "DT_RF = Pipeline([\n",
    "    ('feature_union', FeatureUnion([\n",
    "                        ('original_features', StandardScaler()),  # Example: Standardize the original features (X)\n",
    "                        ('quartile_feature', QuartileFeatureRF())  # Use the custom quartile predictor\n",
    "                    ])),\n",
    "    ('regression_model', base_model)  # You can use any regression model here\n",
    "])\n",
    "\n",
    "DT_GB = Pipeline([\n",
    "    ('feature_union', FeatureUnion([\n",
    "                        ('original_features', StandardScaler()),  # Example: Standardize the original features (X)\n",
    "                        ('quartile_feature', QuartileFeatureGB())  # Use the custom quartile predictor\n",
    "                    ])),\n",
    "    ('regression_model', base_model)  # You can use any regression model here\n",
    "])"
   ]
  },
  {
   "cell_type": "code",
   "execution_count": 8,
   "metadata": {},
   "outputs": [],
   "source": [
    "# Add the modified pipeline and selected models to a dictionary dictionary\n",
    "models = {\n",
    "    \"DT\": base_model,\n",
    "    \"DT_DT\": DT_DT,\n",
    "    \"DT_RF\": DT_RF,\n",
    "    \"DT_GB\": DT_GB,\n",
    "}"
   ]
  },
  {
   "cell_type": "code",
   "execution_count": 9,
   "metadata": {},
   "outputs": [],
   "source": [
    "metrics = ['neg_mean_absolute_percentage_error','neg_mean_absolute_error'] # accepts scikit-learn metrics"
   ]
  },
  {
   "cell_type": "code",
   "execution_count": 10,
   "metadata": {},
   "outputs": [
    {
     "name": "stdout",
     "output_type": "stream",
     "text": [
      "Running load_auto_mpg ...\n",
      "Running load_bike_sharing_day ...\n",
      "Running load_bike_sharing_hour ...\n",
      "Running load_energy_efficiency_y1 ...\n",
      "Running load_energy_efficiency_y2 ...\n",
      "Running load_forest_fires ...\n",
      "Running load_real_state_valuation ...\n",
      "Running load_student_mat ...\n",
      "Running load_student_por ...\n",
      "Running load_wine_quality_red ...\n",
      "Running load_wine_quality_white ...\n"
     ]
    },
    {
     "name": "stderr",
     "output_type": "stream",
     "text": [
      "100%|██████████| 11/11 [00:00<00:00, 31.06it/s]\n",
      "100%|██████████| 11/11 [00:01<00:00,  7.75it/s]\n",
      "100%|██████████| 11/11 [00:50<00:00,  4.57s/it]\n",
      "100%|██████████| 11/11 [02:28<00:00, 13.52s/it]\n",
      "100%|██████████| 4/4 [03:20<00:00, 50.21s/it]\n"
     ]
    }
   ],
   "source": [
    "datasets = load_regression_datasets()\n",
    "output_json = 'quartile_features.json'\n",
    "res = run_cross_dataset_benchmark_models(models, datasets, metrics, output_json, cv=5)"
   ]
  },
  {
   "cell_type": "code",
   "execution_count": 11,
   "metadata": {},
   "outputs": [
    {
     "name": "stdout",
     "output_type": "stream",
     "text": [
      "['DT', 'DT_DT', 'DT_RF', 'DT_GB']\n",
      "['load_auto_mpg', 'load_bike_sharing_day', 'load_bike_sharing_hour', 'load_energy_efficiency_y1', 'load_energy_efficiency_y2', 'load_forest_fires', 'load_real_state_valuation', 'load_student_mat', 'load_student_por', 'load_wine_quality_red', 'load_wine_quality_white']\n",
      "['fit_time', 'score_time', 'test_neg_mean_absolute_percentage_error', 'test_neg_mean_absolute_error', 'memory_usage(MB)']\n",
      "load_auto_mpg\n",
      "\ttest_neg_mean_absolute_percentage_error\n",
      "\t\t                                 DT:\t -0.140 \t +- 0.021\n",
      "\t\t                              DT_DT:\t -0.132 \t +- 0.008\n",
      "\t\t                              DT_RF:\t -0.114 \t +- 0.012\n",
      "\t\t                              DT_GB:\t -0.113 \t +- 0.015\n",
      "load_bike_sharing_day\n",
      "\ttest_neg_mean_absolute_percentage_error\n",
      "\t\t                                 DT:\t -0.229 \t +- 0.129\n",
      "\t\t                              DT_DT:\t -0.198 \t +- 0.137\n",
      "\t\t                              DT_RF:\t -0.210 \t +- 0.146\n",
      "\t\t                              DT_GB:\t -0.198 \t +- 0.137\n",
      "load_bike_sharing_hour\n",
      "\ttest_neg_mean_absolute_percentage_error\n",
      "\t\t                                 DT:\t -0.641 \t +- 0.291\n",
      "\t\t                              DT_DT:\t -0.635 \t +- 0.284\n",
      "\t\t                              DT_RF:\t -0.636 \t +- 0.284\n",
      "\t\t                              DT_GB:\t -0.633 \t +- 0.285\n",
      "load_energy_efficiency_y1\n",
      "\ttest_neg_mean_absolute_percentage_error\n",
      "\t\t                                 DT:\t -0.137 \t +- 0.062\n",
      "\t\t                              DT_DT:\t -0.104 \t +- 0.067\n",
      "\t\t                              DT_RF:\t -0.112 \t +- 0.078\n",
      "\t\t                              DT_GB:\t -0.102 \t +- 0.066\n",
      "load_energy_efficiency_y2\n",
      "\ttest_neg_mean_absolute_percentage_error\n",
      "\t\t                                 DT:\t -0.095 \t +- 0.027\n",
      "\t\t                              DT_DT:\t -0.081 \t +- 0.020\n",
      "\t\t                              DT_RF:\t -0.083 \t +- 0.024\n",
      "\t\t                              DT_GB:\t -0.070 \t +- 0.016\n",
      "load_forest_fires\n",
      "\ttest_neg_mean_absolute_percentage_error\n",
      "\t\t                                 DT:\t -35146101246644536.000 \t +- 22706435644858192.000\n",
      "\t\t                              DT_DT:\t -59562107972085992.000 \t +- 65114882237566048.000\n",
      "\t\t                              DT_RF:\t -49113177035664120.000 \t +- 74868102058176608.000\n",
      "\t\t                              DT_GB:\t -62478517521729808.000 \t +- 102739327547713232.000\n",
      "load_real_state_valuation\n",
      "\ttest_neg_mean_absolute_percentage_error\n",
      "\t\t                                 DT:\t -0.168 \t +- 0.035\n",
      "\t\t                              DT_DT:\t -0.165 \t +- 0.022\n",
      "\t\t                              DT_RF:\t -0.157 \t +- 0.020\n",
      "\t\t                              DT_GB:\t -0.159 \t +- 0.016\n",
      "load_student_mat\n",
      "\ttest_neg_mean_absolute_percentage_error\n",
      "\t\t                                 DT:\t -3421131295910038.000 \t +- 2458217487942832.000\n",
      "\t\t                              DT_DT:\t -3179950955021681.000 \t +- 2038544682685309.750\n",
      "\t\t                              DT_RF:\t -2750091432953920.000 \t +- 2070266532772748.000\n",
      "\t\t                              DT_GB:\t -2982527273736301.500 \t +- 2301923302301590.000\n",
      "load_student_por\n",
      "\ttest_neg_mean_absolute_percentage_error\n",
      "\t\t                                 DT:\t -1107684540484936.750 \t +- 1740081606136222.250\n",
      "\t\t                              DT_DT:\t -1107035629622334.000 \t +- 1722745394271712.000\n",
      "\t\t                              DT_RF:\t -967903708521862.375 \t +- 1590129556079781.000\n",
      "\t\t                              DT_GB:\t -985741026806876.000 \t +- 1633709419884939.500\n",
      "load_wine_quality_red\n",
      "\ttest_neg_mean_absolute_percentage_error\n",
      "\t\t                                 DT:\t -0.101 \t +- 0.004\n",
      "\t\t                              DT_DT:\t -0.116 \t +- 0.006\n",
      "\t\t                              DT_RF:\t -0.092 \t +- 0.004\n",
      "\t\t                              DT_GB:\t -0.090 \t +- 0.005\n",
      "load_wine_quality_white\n",
      "\ttest_neg_mean_absolute_percentage_error\n",
      "\t\t                                 DT:\t -0.108 \t +- 0.005\n",
      "\t\t                              DT_DT:\t -0.128 \t +- 0.007\n",
      "\t\t                              DT_RF:\t -0.101 \t +- 0.004\n",
      "\t\t                              DT_GB:\t -0.100 \t +- 0.006\n"
     ]
    }
   ],
   "source": [
    "models = list(res.keys())\n",
    "datasets = list(res[models[0]].keys())\n",
    "metrics = list(res[models[0]][datasets[0]].keys())\n",
    "\n",
    "print(models)\n",
    "print(datasets)\n",
    "print(metrics)\n",
    "\n",
    "for dataset in datasets:\n",
    "    print(f'{dataset}')\n",
    "    for metric in metrics[2:3]: # MAPE\n",
    "        print(f'\\t{metric}')\n",
    "        for model in models:\n",
    "            print(f'\\t\\t{model:>35}:\\t {np.mean(res[model][dataset][metric]):.3f} \\t +- {np.std(res[model][dataset][metric]):.3f}')"
   ]
  },
  {
   "cell_type": "code",
   "execution_count": 12,
   "metadata": {},
   "outputs": [
    {
     "name": "stdout",
     "output_type": "stream",
     "text": [
      "['DT', 'DT_DT', 'DT_RF', 'DT_GB']\n",
      "['load_auto_mpg', 'load_bike_sharing_day', 'load_bike_sharing_hour', 'load_energy_efficiency_y1', 'load_energy_efficiency_y2', 'load_forest_fires', 'load_real_state_valuation', 'load_student_mat', 'load_student_por', 'load_wine_quality_red', 'load_wine_quality_white']\n",
      "['fit_time', 'score_time', 'test_neg_mean_absolute_percentage_error', 'test_neg_mean_absolute_error', 'memory_usage(MB)']\n",
      "load_auto_mpg\n",
      "\ttest_neg_mean_absolute_error\n",
      "\t\t                                 DT:\t -3.224 \t +- 1.050\n",
      "\t\t                              DT_DT:\t -3.081 \t +- 0.873\n",
      "\t\t                              DT_RF:\t -2.677 \t +- 0.913\n",
      "\t\t                              DT_GB:\t -2.651 \t +- 1.011\n",
      "load_bike_sharing_day\n",
      "\ttest_neg_mean_absolute_error\n",
      "\t\t                                 DT:\t -602.228 \t +- 98.133\n",
      "\t\t                              DT_DT:\t -464.084 \t +- 97.046\n",
      "\t\t                              DT_RF:\t -523.688 \t +- 131.642\n",
      "\t\t                              DT_GB:\t -463.228 \t +- 101.574\n",
      "load_bike_sharing_hour\n",
      "\ttest_neg_mean_absolute_error\n",
      "\t\t                                 DT:\t -32.697 \t +- 6.197\n",
      "\t\t                              DT_DT:\t -31.895 \t +- 6.611\n",
      "\t\t                              DT_RF:\t -32.054 \t +- 6.518\n",
      "\t\t                              DT_GB:\t -30.987 \t +- 6.868\n",
      "load_energy_efficiency_y1\n",
      "\ttest_neg_mean_absolute_error\n",
      "\t\t                                 DT:\t -2.475 \t +- 0.611\n",
      "\t\t                              DT_DT:\t -2.004 \t +- 0.818\n",
      "\t\t                              DT_RF:\t -2.131 \t +- 0.974\n",
      "\t\t                              DT_GB:\t -1.942 \t +- 0.756\n",
      "load_energy_efficiency_y2\n",
      "\ttest_neg_mean_absolute_error\n",
      "\t\t                                 DT:\t -2.280 \t +- 0.413\n",
      "\t\t                              DT_DT:\t -2.035 \t +- 0.382\n",
      "\t\t                              DT_RF:\t -2.037 \t +- 0.419\n",
      "\t\t                              DT_GB:\t -1.766 \t +- 0.269\n",
      "load_forest_fires\n",
      "\ttest_neg_mean_absolute_error\n",
      "\t\t                                 DT:\t -21.246 \t +- 11.333\n",
      "\t\t                              DT_DT:\t -28.172 \t +- 9.560\n",
      "\t\t                              DT_RF:\t -24.823 \t +- 13.151\n",
      "\t\t                              DT_GB:\t -27.306 \t +- 18.892\n",
      "load_real_state_valuation\n",
      "\ttest_neg_mean_absolute_error\n",
      "\t\t                                 DT:\t -5.864 \t +- 0.935\n",
      "\t\t                              DT_DT:\t -5.936 \t +- 0.470\n",
      "\t\t                              DT_RF:\t -5.590 \t +- 0.483\n",
      "\t\t                              DT_GB:\t -5.697 \t +- 0.230\n",
      "load_student_mat\n",
      "\ttest_neg_mean_absolute_error\n",
      "\t\t                                 DT:\t -3.384 \t +- 0.386\n",
      "\t\t                              DT_DT:\t -3.836 \t +- 0.436\n",
      "\t\t                              DT_RF:\t -3.701 \t +- 0.378\n",
      "\t\t                              DT_GB:\t -3.792 \t +- 0.486\n",
      "load_student_por\n",
      "\ttest_neg_mean_absolute_error\n",
      "\t\t                                 DT:\t -2.365 \t +- 0.419\n",
      "\t\t                              DT_DT:\t -2.715 \t +- 0.358\n",
      "\t\t                              DT_RF:\t -2.515 \t +- 0.356\n",
      "\t\t                              DT_GB:\t -2.505 \t +- 0.488\n",
      "load_wine_quality_red\n",
      "\ttest_neg_mean_absolute_error\n",
      "\t\t                                 DT:\t -0.552 \t +- 0.024\n",
      "\t\t                              DT_DT:\t -0.638 \t +- 0.016\n",
      "\t\t                              DT_RF:\t -0.505 \t +- 0.033\n",
      "\t\t                              DT_GB:\t -0.494 \t +- 0.031\n",
      "load_wine_quality_white\n",
      "\ttest_neg_mean_absolute_error\n",
      "\t\t                                 DT:\t -0.611 \t +- 0.027\n",
      "\t\t                              DT_DT:\t -0.735 \t +- 0.040\n",
      "\t\t                              DT_RF:\t -0.584 \t +- 0.033\n",
      "\t\t                              DT_GB:\t -0.569 \t +- 0.043\n"
     ]
    }
   ],
   "source": [
    "models = list(res.keys())\n",
    "datasets = list(res[models[0]].keys())\n",
    "metrics = list(res[models[0]][datasets[0]].keys())\n",
    "\n",
    "print(models)\n",
    "print(datasets)\n",
    "print(metrics)\n",
    "\n",
    "for dataset in datasets:\n",
    "    print(f'{dataset}')\n",
    "    for metric in metrics[3:4]: # mean_absolute_error\n",
    "        print(f'\\t{metric}')\n",
    "        for model in models:\n",
    "            print(f'\\t\\t{model:>35}:\\t {np.mean(res[model][dataset][metric]):.3f} \\t +- {np.std(res[model][dataset][metric]):.3f}')"
   ]
  },
  {
   "cell_type": "code",
   "execution_count": null,
   "metadata": {},
   "outputs": [],
   "source": []
  }
 ],
 "metadata": {
  "kernelspec": {
   "display_name": "Python 3",
   "language": "python",
   "name": "python3"
  },
  "language_info": {
   "codemirror_mode": {
    "name": "ipython",
    "version": 3
   },
   "file_extension": ".py",
   "mimetype": "text/x-python",
   "name": "python",
   "nbconvert_exporter": "python",
   "pygments_lexer": "ipython3",
   "version": "3.11.1"
  },
  "orig_nbformat": 4
 },
 "nbformat": 4,
 "nbformat_minor": 2
}
